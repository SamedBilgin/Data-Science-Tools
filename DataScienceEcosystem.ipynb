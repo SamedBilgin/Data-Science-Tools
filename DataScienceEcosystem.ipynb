# Data Science Tools and Ecosystem
## Introduction
This notebook is created for the purpose of completing exercises related to data science languages, libraries, tools, and arithmetic expressions
## Data Science Languages
1. Python
2. R
3. Julia
## Objectives
1. Learn about data science languages, libraries, and tools
2. Understand arithmetic expressions and their examples
3. Complete exercises to practice these concepts
## Data Science Libraries
1. Pandas
2. NumPy
3. Matplotlib
4. Scikit-Learn
5. TensorFlow
## Data Science Tools
| Tool | Description |
|------|-------------|
| Jupyter | Interactive notebook for coding, visualization, and documentation |
| Git | Version control system for tracking changes in code |
| Tableau | Data visualization tool for creating interactive and shareable dashboards |
| Spark | Distributed data processing framework for big data analytics |
| SQL | Query language for managing relational databases |
## Arithmetic Expressions
Here are some examples of arithmetic expressions:
a = 5
b = 10
c = a * b
d = a + b
c, d
 # This a simple arithmetic expression to mutiply then add integers
(3*4)+5
# Convert minutes to hours
minutes = 200
hours = minutes / 60
hours
## Author
Samed Bilgin
